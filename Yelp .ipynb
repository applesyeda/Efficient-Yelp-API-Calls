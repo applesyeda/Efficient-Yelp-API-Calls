{
 "cells": [
  {
   "cell_type": "code",
   "execution_count": 1,
   "id": "f1e2f9b7",
   "metadata": {},
   "outputs": [
    {
     "data": {
      "text/plain": [
       "dict_keys(['client-id', 'api-key'])"
      ]
     },
     "execution_count": 1,
     "metadata": {},
     "output_type": "execute_result"
    }
   ],
   "source": [
    "import json\n",
    "with open(\"/Users/Meryum Syeda/.secret/yelp_api.json\") as f: #change the path to match YOUR path!!\n",
    "    login = json.load(f)\n",
    "login.keys()"
   ]
  },
  {
   "cell_type": "code",
   "execution_count": 2,
   "id": "44c0f103",
   "metadata": {},
   "outputs": [
    {
     "data": {
      "text/plain": [
       "<yelpapi.yelpapi.YelpAPI at 0x140b3d75460>"
      ]
     },
     "execution_count": 2,
     "metadata": {},
     "output_type": "execute_result"
    }
   ],
   "source": [
    "from yelpapi import YelpAPI\n",
    "yelp_api = YelpAPI(login['api-key'], timeout_s=5.0)\n",
    "yelp_api"
   ]
  },
  {
   "cell_type": "code",
   "execution_count": 3,
   "id": "7dc18f8f",
   "metadata": {},
   "outputs": [
    {
     "data": {
      "text/plain": [
       "dict_keys(['businesses', 'total', 'region'])"
      ]
     },
     "execution_count": 3,
     "metadata": {},
     "output_type": "execute_result"
    }
   ],
   "source": [
    "# Quick Test Query\n",
    "results = yelp_api.search_query(location='Baltimore, MD',\n",
    "                                       term='Crab Cake')\n",
    "type(results)\n",
    "results.keys()"
   ]
  },
  {
   "cell_type": "code",
   "execution_count": 4,
   "id": "e4696b3e",
   "metadata": {},
   "outputs": [],
   "source": [
    "# Standard Imports\n",
    "import numpy as np\n",
    "import pandas as pd\n",
    "import matplotlib.pyplot as plt\n",
    "import seaborn as sns\n",
    "# Additional Imports\n",
    "import os, json, math, time\n",
    "from yelpapi import YelpAPI\n",
    "from tqdm.notebook import tqdm_notebook"
   ]
  },
  {
   "cell_type": "code",
   "execution_count": 5,
   "id": "37e8e49b",
   "metadata": {},
   "outputs": [],
   "source": [
    "# set our API call parameters and filename before the first call\n",
    "LOCATION = 'Baltimore, MD,21202'\n",
    "TERM = 'Crab Cakes'"
   ]
  },
  {
   "cell_type": "code",
   "execution_count": 6,
   "id": "92bc04ee",
   "metadata": {},
   "outputs": [
    {
     "data": {
      "text/plain": [
       "'Data/results_in_progress_Crab_cakes.json'"
      ]
     },
     "execution_count": 6,
     "metadata": {},
     "output_type": "execute_result"
    }
   ],
   "source": [
    "# Specifying JSON_FILE filename (can include a folder)\n",
    "# include the search terms in the filename\n",
    "JSON_FILE = f\"Data/results_in_progress_Crab_cakes.json\"\n",
    "JSON_FILE"
   ]
  },
  {
   "cell_type": "code",
   "execution_count": 8,
   "id": "f7ba1b75",
   "metadata": {},
   "outputs": [
    {
     "name": "stdout",
     "output_type": "stream",
     "text": [
      "[i] Data/results_in_progress_Crab_cakes.json not found. Saving empty list to file.\n"
     ]
    }
   ],
   "source": [
    "## Check if JSON_FILE exists\n",
    "file_exists = os.path.isfile(JSON_FILE)\n",
    "## If it does not exist: \n",
    "if file_exists == False:\n",
    "    \n",
    "    ## CREATE ANY NEEDED FOLDERS\n",
    "    # Get the Folder Name only\n",
    "    folder = os.path.dirname(JSON_FILE)\n",
    "    ## If JSON_FILE included a folder:\n",
    "    if len(folder)>0:\n",
    "        # create the folder\n",
    "        os.makedirs(folder,exist_ok=True)\n",
    "        \n",
    "        \n",
    "    ## INFORM USER AND SAVE EMPTY LIST\n",
    "    print(f\"[i] {JSON_FILE} not found. Saving empty list to file.\")\n",
    "    \n",
    "    \n",
    "    ## save the first page of results\n",
    "    with open(JSON_FILE,'w') as f:\n",
    "        json.dump([],f)  \n",
    "## If it exists, inform user\n",
    "else:\n",
    "    print(f\"[i] {JSON_FILE} already exists.\")"
   ]
  },
  {
   "cell_type": "code",
   "execution_count": 9,
   "id": "7fc544ea",
   "metadata": {},
   "outputs": [
    {
     "name": "stdout",
     "output_type": "stream",
     "text": [
      "- 0 previous results found.\n"
     ]
    }
   ],
   "source": [
    "## Load previous results and use len of results for offset\n",
    "with open(JSON_FILE,'r') as f:\n",
    "    previous_results = json.load(f)\n",
    "    \n",
    "## set offset based on previous results\n",
    "n_results = len(previous_results)\n",
    "print(f'- {n_results} previous results found.')"
   ]
  },
  {
   "cell_type": "code",
   "execution_count": 12,
   "id": "a62ebc8e",
   "metadata": {},
   "outputs": [
    {
     "data": {
      "text/plain": [
       "dict_keys(['businesses', 'total', 'region'])"
      ]
     },
     "execution_count": 12,
     "metadata": {},
     "output_type": "execute_result"
    }
   ],
   "source": [
    "# use our yelp_api variable's search_query method to perform our API call\n",
    "results = yelp_api.search_query(location='Baltimore, MD',\n",
    "                                       term='Crab Cake', \n",
    "                               offset=n_results)\n",
    "type(results)\n",
    "results.keys()"
   ]
  },
  {
   "cell_type": "code",
   "execution_count": 13,
   "id": "1471fee7",
   "metadata": {},
   "outputs": [
    {
     "data": {
      "text/plain": [
       "879"
      ]
     },
     "execution_count": 13,
     "metadata": {},
     "output_type": "execute_result"
    }
   ],
   "source": [
    "## How many results total?\n",
    "total_results = results['total']\n",
    "total_results"
   ]
  },
  {
   "cell_type": "code",
   "execution_count": 14,
   "id": "1fa4698e",
   "metadata": {},
   "outputs": [
    {
     "data": {
      "text/plain": [
       "20"
      ]
     },
     "execution_count": 14,
     "metadata": {},
     "output_type": "execute_result"
    }
   ],
   "source": [
    "## How many did we get the details for?\n",
    "results_per_page = len(results['businesses'])\n",
    "results_per_page"
   ]
  },
  {
   "cell_type": "code",
   "execution_count": 15,
   "id": "12819c2c",
   "metadata": {},
   "outputs": [
    {
     "data": {
      "text/plain": [
       "44"
      ]
     },
     "execution_count": 15,
     "metadata": {},
     "output_type": "execute_result"
    }
   ],
   "source": [
    "# Import additional packages for controlling our loop\n",
    "import time, math\n",
    "# Use math.ceil to round up for the total number of pages of results.\n",
    "n_pages = math.ceil((results['total']-n_results)/ results_per_page)\n",
    "n_pages"
   ]
  },
  {
   "cell_type": "code",
   "execution_count": 16,
   "id": "4783e9a6",
   "metadata": {},
   "outputs": [],
   "source": [
    "# join new results with old list with extend and save to file\n",
    "previous_results.extend(results['businesses'])  \n",
    "with open(JSON_FILE,'w') as f:\n",
    "     json.dump(previous_results,f)"
   ]
  },
  {
   "cell_type": "code",
   "execution_count": 17,
   "id": "b9c26509",
   "metadata": {},
   "outputs": [
    {
     "data": {
      "application/vnd.jupyter.widget-view+json": {
       "model_id": "e3c8f78b0f1b43699ff2a1ddbf3293b5",
       "version_major": 2,
       "version_minor": 0
      },
      "text/plain": [
       "  0%|          | 0/44 [00:00<?, ?it/s]"
      ]
     },
     "metadata": {},
     "output_type": "display_data"
    }
   ],
   "source": [
    "from tqdm.notebook import tqdm_notebook\n",
    "import time\n",
    "for i in tqdm_notebook(range(n_pages)):\n",
    "    # adds 200 ms pause\n",
    "    time.sleep(.2) "
   ]
  },
  {
   "cell_type": "code",
   "execution_count": 18,
   "id": "350e0458",
   "metadata": {},
   "outputs": [
    {
     "data": {
      "application/vnd.jupyter.widget-view+json": {
       "model_id": "889dda9f75334ae2a32eb2dd79aefa3a",
       "version_major": 2,
       "version_minor": 0
      },
      "text/plain": [
       "  0%|          | 0/44 [00:00<?, ?it/s]"
      ]
     },
     "metadata": {},
     "output_type": "display_data"
    }
   ],
   "source": [
    "for i in tqdm_notebook( range(1,n_pages+1)):\n",
    "    time.sleep(.2)\n",
    "    ## Read in results in progress file and check the length\n",
    "    with open(JSON_FILE, 'r') as f:\n",
    "        previous_results = json.load(f)\n",
    "    ## save number of results for to use as offset\n",
    "    n_results = len(previous_results)\n",
    "    ## use n_results as the OFFSET \n",
    "    results = yelp_api.search_query(location=LOCATION,\n",
    "                                    term=TERM, \n",
    "                                    offset=n_results)\n",
    "    \n",
    "    ## append new results and save to file\n",
    "    previous_results.extend(results['businesses'])\n",
    "    \n",
    "#     display(previous_results)\n",
    "    with open(JSON_FILE,'w') as f:\n",
    "        json.dump(previous_results,f)"
   ]
  },
  {
   "cell_type": "code",
   "execution_count": 19,
   "id": "9ec957d2",
   "metadata": {},
   "outputs": [
    {
     "data": {
      "text/html": [
       "<div>\n",
       "<style scoped>\n",
       "    .dataframe tbody tr th:only-of-type {\n",
       "        vertical-align: middle;\n",
       "    }\n",
       "\n",
       "    .dataframe tbody tr th {\n",
       "        vertical-align: top;\n",
       "    }\n",
       "\n",
       "    .dataframe thead th {\n",
       "        text-align: right;\n",
       "    }\n",
       "</style>\n",
       "<table border=\"1\" class=\"dataframe\">\n",
       "  <thead>\n",
       "    <tr style=\"text-align: right;\">\n",
       "      <th></th>\n",
       "      <th>id</th>\n",
       "      <th>alias</th>\n",
       "      <th>name</th>\n",
       "      <th>image_url</th>\n",
       "      <th>is_closed</th>\n",
       "      <th>url</th>\n",
       "      <th>review_count</th>\n",
       "      <th>categories</th>\n",
       "      <th>rating</th>\n",
       "      <th>coordinates</th>\n",
       "      <th>transactions</th>\n",
       "      <th>price</th>\n",
       "      <th>location</th>\n",
       "      <th>phone</th>\n",
       "      <th>display_phone</th>\n",
       "      <th>distance</th>\n",
       "    </tr>\n",
       "  </thead>\n",
       "  <tbody>\n",
       "    <tr>\n",
       "      <th>0</th>\n",
       "      <td>D9A33FM394q99o4QtK5YwA</td>\n",
       "      <td>faidleys-seafood-baltimore-3</td>\n",
       "      <td>Faidley's Seafood</td>\n",
       "      <td>https://s3-media3.fl.yelpcdn.com/bphoto/8j3ynZ...</td>\n",
       "      <td>False</td>\n",
       "      <td>https://www.yelp.com/biz/faidleys-seafood-balt...</td>\n",
       "      <td>1232</td>\n",
       "      <td>[{'alias': 'seafood', 'title': 'Seafood'}, {'a...</td>\n",
       "      <td>4.0</td>\n",
       "      <td>{'latitude': 39.291696, 'longitude': -76.62224}</td>\n",
       "      <td>[delivery]</td>\n",
       "      <td>$$</td>\n",
       "      <td>{'address1': '203 N Paca St', 'address2': '', ...</td>\n",
       "      <td>+14107274898</td>\n",
       "      <td>(410) 727-4898</td>\n",
       "      <td>2261.836419</td>\n",
       "    </tr>\n",
       "    <tr>\n",
       "      <th>1</th>\n",
       "      <td>ieS_5zqxDHcWMCm8BKUYbg</td>\n",
       "      <td>thames-street-oyster-house-baltimore</td>\n",
       "      <td>Thames Street Oyster House</td>\n",
       "      <td>https://s3-media1.fl.yelpcdn.com/bphoto/9hGjo5...</td>\n",
       "      <td>False</td>\n",
       "      <td>https://www.yelp.com/biz/thames-street-oyster-...</td>\n",
       "      <td>2848</td>\n",
       "      <td>[{'alias': 'seafood', 'title': 'Seafood'}, {'a...</td>\n",
       "      <td>4.5</td>\n",
       "      <td>{'latitude': 39.28214, 'longitude': -76.59162}</td>\n",
       "      <td>[delivery]</td>\n",
       "      <td>$$$</td>\n",
       "      <td>{'address1': '1728 Thames St', 'address2': '',...</td>\n",
       "      <td>+14434497726</td>\n",
       "      <td>(443) 449-7726</td>\n",
       "      <td>3377.766396</td>\n",
       "    </tr>\n",
       "    <tr>\n",
       "      <th>2</th>\n",
       "      <td>u65W69AhbjUlvJJBkEhGNQ</td>\n",
       "      <td>miss-shirleys-cafe-baltimore-9</td>\n",
       "      <td>Miss Shirley's Cafe</td>\n",
       "      <td>https://s3-media2.fl.yelpcdn.com/bphoto/Guq6JM...</td>\n",
       "      <td>False</td>\n",
       "      <td>https://www.yelp.com/biz/miss-shirleys-cafe-ba...</td>\n",
       "      <td>3071</td>\n",
       "      <td>[{'alias': 'breakfast_brunch', 'title': 'Break...</td>\n",
       "      <td>4.0</td>\n",
       "      <td>{'latitude': 39.2870995, 'longitude': -76.6053...</td>\n",
       "      <td>[delivery]</td>\n",
       "      <td>$$</td>\n",
       "      <td>{'address1': '750 E Pratt St', 'address2': '',...</td>\n",
       "      <td>+14105285373</td>\n",
       "      <td>(410) 528-5373</td>\n",
       "      <td>2487.215894</td>\n",
       "    </tr>\n",
       "    <tr>\n",
       "      <th>3</th>\n",
       "      <td>6am8TZAFnvND52MOz-Yctg</td>\n",
       "      <td>mamas-on-the-half-shell-baltimore</td>\n",
       "      <td>Mama's On The Half Shell</td>\n",
       "      <td>https://s3-media2.fl.yelpcdn.com/bphoto/HWY8OF...</td>\n",
       "      <td>False</td>\n",
       "      <td>https://www.yelp.com/biz/mamas-on-the-half-she...</td>\n",
       "      <td>1324</td>\n",
       "      <td>[{'alias': 'bars', 'title': 'Bars'}, {'alias':...</td>\n",
       "      <td>4.0</td>\n",
       "      <td>{'latitude': 39.27986, 'longitude': -76.5752399}</td>\n",
       "      <td>[pickup, delivery]</td>\n",
       "      <td>$$</td>\n",
       "      <td>{'address1': '2901 Odonnell St', 'address2': '...</td>\n",
       "      <td>+14102763160</td>\n",
       "      <td>(410) 276-3160</td>\n",
       "      <td>4377.037932</td>\n",
       "    </tr>\n",
       "    <tr>\n",
       "      <th>4</th>\n",
       "      <td>0w8Gipb562gV5ERnmsE-8Q</td>\n",
       "      <td>g-and-m-restaurant-and-lounge-linthicum-heights-7</td>\n",
       "      <td>G &amp; M Restaurant &amp; Lounge</td>\n",
       "      <td>https://s3-media1.fl.yelpcdn.com/bphoto/C1a_Hb...</td>\n",
       "      <td>False</td>\n",
       "      <td>https://www.yelp.com/biz/g-and-m-restaurant-an...</td>\n",
       "      <td>2929</td>\n",
       "      <td>[{'alias': 'seafood', 'title': 'Seafood'}]</td>\n",
       "      <td>3.5</td>\n",
       "      <td>{'latitude': 39.22503, 'longitude': -76.66581}</td>\n",
       "      <td>[delivery]</td>\n",
       "      <td>$$</td>\n",
       "      <td>{'address1': '804 N Hammonds Ferry Rd', 'addre...</td>\n",
       "      <td>+14106361777</td>\n",
       "      <td>(410) 636-1777</td>\n",
       "      <td>10568.431867</td>\n",
       "    </tr>\n",
       "  </tbody>\n",
       "</table>\n",
       "</div>"
      ],
      "text/plain": [
       "                       id                                              alias  \\\n",
       "0  D9A33FM394q99o4QtK5YwA                       faidleys-seafood-baltimore-3   \n",
       "1  ieS_5zqxDHcWMCm8BKUYbg               thames-street-oyster-house-baltimore   \n",
       "2  u65W69AhbjUlvJJBkEhGNQ                     miss-shirleys-cafe-baltimore-9   \n",
       "3  6am8TZAFnvND52MOz-Yctg                  mamas-on-the-half-shell-baltimore   \n",
       "4  0w8Gipb562gV5ERnmsE-8Q  g-and-m-restaurant-and-lounge-linthicum-heights-7   \n",
       "\n",
       "                         name  \\\n",
       "0           Faidley's Seafood   \n",
       "1  Thames Street Oyster House   \n",
       "2         Miss Shirley's Cafe   \n",
       "3    Mama's On The Half Shell   \n",
       "4   G & M Restaurant & Lounge   \n",
       "\n",
       "                                           image_url  is_closed  \\\n",
       "0  https://s3-media3.fl.yelpcdn.com/bphoto/8j3ynZ...      False   \n",
       "1  https://s3-media1.fl.yelpcdn.com/bphoto/9hGjo5...      False   \n",
       "2  https://s3-media2.fl.yelpcdn.com/bphoto/Guq6JM...      False   \n",
       "3  https://s3-media2.fl.yelpcdn.com/bphoto/HWY8OF...      False   \n",
       "4  https://s3-media1.fl.yelpcdn.com/bphoto/C1a_Hb...      False   \n",
       "\n",
       "                                                 url  review_count  \\\n",
       "0  https://www.yelp.com/biz/faidleys-seafood-balt...          1232   \n",
       "1  https://www.yelp.com/biz/thames-street-oyster-...          2848   \n",
       "2  https://www.yelp.com/biz/miss-shirleys-cafe-ba...          3071   \n",
       "3  https://www.yelp.com/biz/mamas-on-the-half-she...          1324   \n",
       "4  https://www.yelp.com/biz/g-and-m-restaurant-an...          2929   \n",
       "\n",
       "                                          categories  rating  \\\n",
       "0  [{'alias': 'seafood', 'title': 'Seafood'}, {'a...     4.0   \n",
       "1  [{'alias': 'seafood', 'title': 'Seafood'}, {'a...     4.5   \n",
       "2  [{'alias': 'breakfast_brunch', 'title': 'Break...     4.0   \n",
       "3  [{'alias': 'bars', 'title': 'Bars'}, {'alias':...     4.0   \n",
       "4         [{'alias': 'seafood', 'title': 'Seafood'}]     3.5   \n",
       "\n",
       "                                         coordinates        transactions  \\\n",
       "0    {'latitude': 39.291696, 'longitude': -76.62224}          [delivery]   \n",
       "1     {'latitude': 39.28214, 'longitude': -76.59162}          [delivery]   \n",
       "2  {'latitude': 39.2870995, 'longitude': -76.6053...          [delivery]   \n",
       "3   {'latitude': 39.27986, 'longitude': -76.5752399}  [pickup, delivery]   \n",
       "4     {'latitude': 39.22503, 'longitude': -76.66581}          [delivery]   \n",
       "\n",
       "  price                                           location         phone  \\\n",
       "0    $$  {'address1': '203 N Paca St', 'address2': '', ...  +14107274898   \n",
       "1   $$$  {'address1': '1728 Thames St', 'address2': '',...  +14434497726   \n",
       "2    $$  {'address1': '750 E Pratt St', 'address2': '',...  +14105285373   \n",
       "3    $$  {'address1': '2901 Odonnell St', 'address2': '...  +14102763160   \n",
       "4    $$  {'address1': '804 N Hammonds Ferry Rd', 'addre...  +14106361777   \n",
       "\n",
       "    display_phone      distance  \n",
       "0  (410) 727-4898   2261.836419  \n",
       "1  (443) 449-7726   3377.766396  \n",
       "2  (410) 528-5373   2487.215894  \n",
       "3  (410) 276-3160   4377.037932  \n",
       "4  (410) 636-1777  10568.431867  "
      ]
     },
     "metadata": {},
     "output_type": "display_data"
    },
    {
     "data": {
      "text/html": [
       "<div>\n",
       "<style scoped>\n",
       "    .dataframe tbody tr th:only-of-type {\n",
       "        vertical-align: middle;\n",
       "    }\n",
       "\n",
       "    .dataframe tbody tr th {\n",
       "        vertical-align: top;\n",
       "    }\n",
       "\n",
       "    .dataframe thead th {\n",
       "        text-align: right;\n",
       "    }\n",
       "</style>\n",
       "<table border=\"1\" class=\"dataframe\">\n",
       "  <thead>\n",
       "    <tr style=\"text-align: right;\">\n",
       "      <th></th>\n",
       "      <th>id</th>\n",
       "      <th>alias</th>\n",
       "      <th>name</th>\n",
       "      <th>image_url</th>\n",
       "      <th>is_closed</th>\n",
       "      <th>url</th>\n",
       "      <th>review_count</th>\n",
       "      <th>categories</th>\n",
       "      <th>rating</th>\n",
       "      <th>coordinates</th>\n",
       "      <th>transactions</th>\n",
       "      <th>price</th>\n",
       "      <th>location</th>\n",
       "      <th>phone</th>\n",
       "      <th>display_phone</th>\n",
       "      <th>distance</th>\n",
       "    </tr>\n",
       "  </thead>\n",
       "  <tbody>\n",
       "    <tr>\n",
       "      <th>427</th>\n",
       "      <td>N_Ghvgs7rt7ie1XRx3yuVA</td>\n",
       "      <td>banditos-bar-and-kitchen-baltimore-3</td>\n",
       "      <td>Banditos Bar &amp; Kitchen</td>\n",
       "      <td>https://s3-media3.fl.yelpcdn.com/bphoto/4jUEkH...</td>\n",
       "      <td>False</td>\n",
       "      <td>https://www.yelp.com/biz/banditos-bar-and-kitc...</td>\n",
       "      <td>206</td>\n",
       "      <td>[{'alias': 'mexican', 'title': 'Mexican'}, {'a...</td>\n",
       "      <td>3.5</td>\n",
       "      <td>{'latitude': 39.27626, 'longitude': -76.61468}</td>\n",
       "      <td>[pickup, delivery]</td>\n",
       "      <td>$$</td>\n",
       "      <td>{'address1': '1118 S Charles St', 'address2': ...</td>\n",
       "      <td>+14438351517</td>\n",
       "      <td>(443) 835-1517</td>\n",
       "      <td>2292.805318</td>\n",
       "    </tr>\n",
       "    <tr>\n",
       "      <th>428</th>\n",
       "      <td>p8_yO34vsydnG-AgoIyIMA</td>\n",
       "      <td>canton-pizza-and-deli-baltimore</td>\n",
       "      <td>Canton Pizza &amp; Deli</td>\n",
       "      <td>https://s3-media1.fl.yelpcdn.com/bphoto/WO2KWf...</td>\n",
       "      <td>False</td>\n",
       "      <td>https://www.yelp.com/biz/canton-pizza-and-deli...</td>\n",
       "      <td>91</td>\n",
       "      <td>[{'alias': 'pizza', 'title': 'Pizza'}]</td>\n",
       "      <td>2.5</td>\n",
       "      <td>{'latitude': 39.2806129455566, 'longitude': -7...</td>\n",
       "      <td>[pickup, delivery]</td>\n",
       "      <td>$</td>\n",
       "      <td>{'address1': '3300 O'Donnell St', 'address2': ...</td>\n",
       "      <td>+14105637777</td>\n",
       "      <td>(410) 563-7777</td>\n",
       "      <td>3716.916969</td>\n",
       "    </tr>\n",
       "    <tr>\n",
       "      <th>429</th>\n",
       "      <td>dWI0jCoOqjge9VQTIad-Ww</td>\n",
       "      <td>york-pizza-subs-and-wings-baltimore</td>\n",
       "      <td>York Pizza Subs and Wings</td>\n",
       "      <td>https://s3-media4.fl.yelpcdn.com/bphoto/Ay3jyi...</td>\n",
       "      <td>False</td>\n",
       "      <td>https://www.yelp.com/biz/york-pizza-subs-and-w...</td>\n",
       "      <td>60</td>\n",
       "      <td>[{'alias': 'pizza', 'title': 'Pizza'}]</td>\n",
       "      <td>2.0</td>\n",
       "      <td>{'latitude': 39.3298530578613, 'longitude': -7...</td>\n",
       "      <td>[pickup, delivery]</td>\n",
       "      <td>$</td>\n",
       "      <td>{'address1': '3401 Greenmount Ave', 'address2'...</td>\n",
       "      <td>+14102356290</td>\n",
       "      <td>(410) 235-6290</td>\n",
       "      <td>3743.767034</td>\n",
       "    </tr>\n",
       "    <tr>\n",
       "      <th>430</th>\n",
       "      <td>rtlLrtUn35c9Y2eIcxHT8g</td>\n",
       "      <td>kings-pizza-and-subs-baltimore-2</td>\n",
       "      <td>King's Pizza &amp; Subs</td>\n",
       "      <td>https://s3-media2.fl.yelpcdn.com/bphoto/9FEdeU...</td>\n",
       "      <td>False</td>\n",
       "      <td>https://www.yelp.com/biz/kings-pizza-and-subs-...</td>\n",
       "      <td>75</td>\n",
       "      <td>[{'alias': 'pizza', 'title': 'Pizza'}]</td>\n",
       "      <td>3.0</td>\n",
       "      <td>{'latitude': 39.33086, 'longitude': -76.63161}</td>\n",
       "      <td>[pickup, delivery]</td>\n",
       "      <td>$$</td>\n",
       "      <td>{'address1': '907 W 36th St', 'address2': None...</td>\n",
       "      <td>+14108893663</td>\n",
       "      <td>(410) 889-3663</td>\n",
       "      <td>4382.210159</td>\n",
       "    </tr>\n",
       "    <tr>\n",
       "      <th>431</th>\n",
       "      <td>EWkA_yQ1VPa7cHbkiBbawA</td>\n",
       "      <td>phillys-best-baltimore</td>\n",
       "      <td>Philly's Best</td>\n",
       "      <td>https://s3-media4.fl.yelpcdn.com/bphoto/CXQdUz...</td>\n",
       "      <td>False</td>\n",
       "      <td>https://www.yelp.com/biz/phillys-best-baltimor...</td>\n",
       "      <td>48</td>\n",
       "      <td>[{'alias': 'pizza', 'title': 'Pizza'}, {'alias...</td>\n",
       "      <td>3.0</td>\n",
       "      <td>{'latitude': 39.33084, 'longitude': -76.63393}</td>\n",
       "      <td>[pickup, delivery]</td>\n",
       "      <td>$</td>\n",
       "      <td>{'address1': '1101 W 36th St', 'address2': '',...</td>\n",
       "      <td>+14102431301</td>\n",
       "      <td>(410) 243-1301</td>\n",
       "      <td>4467.724059</td>\n",
       "    </tr>\n",
       "  </tbody>\n",
       "</table>\n",
       "</div>"
      ],
      "text/plain": [
       "                         id                                 alias  \\\n",
       "427  N_Ghvgs7rt7ie1XRx3yuVA  banditos-bar-and-kitchen-baltimore-3   \n",
       "428  p8_yO34vsydnG-AgoIyIMA       canton-pizza-and-deli-baltimore   \n",
       "429  dWI0jCoOqjge9VQTIad-Ww   york-pizza-subs-and-wings-baltimore   \n",
       "430  rtlLrtUn35c9Y2eIcxHT8g      kings-pizza-and-subs-baltimore-2   \n",
       "431  EWkA_yQ1VPa7cHbkiBbawA                phillys-best-baltimore   \n",
       "\n",
       "                          name  \\\n",
       "427     Banditos Bar & Kitchen   \n",
       "428        Canton Pizza & Deli   \n",
       "429  York Pizza Subs and Wings   \n",
       "430        King's Pizza & Subs   \n",
       "431              Philly's Best   \n",
       "\n",
       "                                             image_url  is_closed  \\\n",
       "427  https://s3-media3.fl.yelpcdn.com/bphoto/4jUEkH...      False   \n",
       "428  https://s3-media1.fl.yelpcdn.com/bphoto/WO2KWf...      False   \n",
       "429  https://s3-media4.fl.yelpcdn.com/bphoto/Ay3jyi...      False   \n",
       "430  https://s3-media2.fl.yelpcdn.com/bphoto/9FEdeU...      False   \n",
       "431  https://s3-media4.fl.yelpcdn.com/bphoto/CXQdUz...      False   \n",
       "\n",
       "                                                   url  review_count  \\\n",
       "427  https://www.yelp.com/biz/banditos-bar-and-kitc...           206   \n",
       "428  https://www.yelp.com/biz/canton-pizza-and-deli...            91   \n",
       "429  https://www.yelp.com/biz/york-pizza-subs-and-w...            60   \n",
       "430  https://www.yelp.com/biz/kings-pizza-and-subs-...            75   \n",
       "431  https://www.yelp.com/biz/phillys-best-baltimor...            48   \n",
       "\n",
       "                                            categories  rating  \\\n",
       "427  [{'alias': 'mexican', 'title': 'Mexican'}, {'a...     3.5   \n",
       "428             [{'alias': 'pizza', 'title': 'Pizza'}]     2.5   \n",
       "429             [{'alias': 'pizza', 'title': 'Pizza'}]     2.0   \n",
       "430             [{'alias': 'pizza', 'title': 'Pizza'}]     3.0   \n",
       "431  [{'alias': 'pizza', 'title': 'Pizza'}, {'alias...     3.0   \n",
       "\n",
       "                                           coordinates        transactions  \\\n",
       "427     {'latitude': 39.27626, 'longitude': -76.61468}  [pickup, delivery]   \n",
       "428  {'latitude': 39.2806129455566, 'longitude': -7...  [pickup, delivery]   \n",
       "429  {'latitude': 39.3298530578613, 'longitude': -7...  [pickup, delivery]   \n",
       "430     {'latitude': 39.33086, 'longitude': -76.63161}  [pickup, delivery]   \n",
       "431     {'latitude': 39.33084, 'longitude': -76.63393}  [pickup, delivery]   \n",
       "\n",
       "    price                                           location         phone  \\\n",
       "427    $$  {'address1': '1118 S Charles St', 'address2': ...  +14438351517   \n",
       "428     $  {'address1': '3300 O'Donnell St', 'address2': ...  +14105637777   \n",
       "429     $  {'address1': '3401 Greenmount Ave', 'address2'...  +14102356290   \n",
       "430    $$  {'address1': '907 W 36th St', 'address2': None...  +14108893663   \n",
       "431     $  {'address1': '1101 W 36th St', 'address2': '',...  +14102431301   \n",
       "\n",
       "      display_phone     distance  \n",
       "427  (443) 835-1517  2292.805318  \n",
       "428  (410) 563-7777  3716.916969  \n",
       "429  (410) 235-6290  3743.767034  \n",
       "430  (410) 889-3663  4382.210159  \n",
       "431  (410) 243-1301  4467.724059  "
      ]
     },
     "metadata": {},
     "output_type": "display_data"
    }
   ],
   "source": [
    "# load final results\n",
    "final_df = pd.read_json(JSON_FILE)\n",
    "display(final_df.head(), final_df.tail())"
   ]
  },
  {
   "cell_type": "code",
   "execution_count": 21,
   "id": "31c81b2f",
   "metadata": {},
   "outputs": [],
   "source": [
    "# save the final results to a compressed csv\n",
    "final_df.to_csv('Data/final_results_crab_cakes.csv.gz', compression='gzip',index=False)"
   ]
  }
 ],
 "metadata": {
  "kernelspec": {
   "display_name": "Python (dojo-env)",
   "language": "python",
   "name": "dojo-env"
  },
  "language_info": {
   "codemirror_mode": {
    "name": "ipython",
    "version": 3
   },
   "file_extension": ".py",
   "mimetype": "text/x-python",
   "name": "python",
   "nbconvert_exporter": "python",
   "pygments_lexer": "ipython3",
   "version": "3.8.13"
  },
  "toc": {
   "base_numbering": 1,
   "nav_menu": {},
   "number_sections": false,
   "sideBar": true,
   "skip_h1_title": false,
   "title_cell": "Table of Contents",
   "title_sidebar": "Contents",
   "toc_cell": false,
   "toc_position": {},
   "toc_section_display": true,
   "toc_window_display": false
  }
 },
 "nbformat": 4,
 "nbformat_minor": 5
}
